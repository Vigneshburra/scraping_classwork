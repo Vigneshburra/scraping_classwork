{
  "nbformat": 4,
  "nbformat_minor": 0,
  "metadata": {
    "colab": {
      "provenance": [],
      "authorship_tag": "ABX9TyNmPQJwfPEO2Bh3Cr+zFPnu",
      "include_colab_link": true
    },
    "kernelspec": {
      "name": "python3",
      "display_name": "Python 3"
    },
    "language_info": {
      "name": "python"
    }
  },
  "cells": [
    {
      "cell_type": "markdown",
      "metadata": {
        "id": "view-in-github",
        "colab_type": "text"
      },
      "source": [
        "<a href=\"https://colab.research.google.com/github/Vigneshburra/scraping_classwork/blob/main/Untitled21.ipynb\" target=\"_parent\"><img src=\"https://colab.research.google.com/assets/colab-badge.svg\" alt=\"Open In Colab\"/></a>"
      ]
    },
    {
      "cell_type": "code",
      "source": [
        "!pip install requests beautifulsoup4 pandas"
      ],
      "metadata": {
        "id": "iKO-PrxJn6a7",
        "colab": {
          "base_uri": "https://localhost:8080/"
        },
        "outputId": "d2e891b2-bd51-4cc5-8c6b-a50d9a378fc4"
      },
      "execution_count": 7,
      "outputs": [
        {
          "output_type": "stream",
          "name": "stdout",
          "text": [
            "Requirement already satisfied: requests in /usr/local/lib/python3.10/dist-packages (2.31.0)\n",
            "Requirement already satisfied: beautifulsoup4 in /usr/local/lib/python3.10/dist-packages (4.12.3)\n",
            "Requirement already satisfied: pandas in /usr/local/lib/python3.10/dist-packages (1.5.3)\n",
            "Requirement already satisfied: charset-normalizer<4,>=2 in /usr/local/lib/python3.10/dist-packages (from requests) (3.3.2)\n",
            "Requirement already satisfied: idna<4,>=2.5 in /usr/local/lib/python3.10/dist-packages (from requests) (3.6)\n",
            "Requirement already satisfied: urllib3<3,>=1.21.1 in /usr/local/lib/python3.10/dist-packages (from requests) (2.0.7)\n",
            "Requirement already satisfied: certifi>=2017.4.17 in /usr/local/lib/python3.10/dist-packages (from requests) (2024.2.2)\n",
            "Requirement already satisfied: soupsieve>1.2 in /usr/local/lib/python3.10/dist-packages (from beautifulsoup4) (2.5)\n",
            "Requirement already satisfied: python-dateutil>=2.8.1 in /usr/local/lib/python3.10/dist-packages (from pandas) (2.8.2)\n",
            "Requirement already satisfied: pytz>=2020.1 in /usr/local/lib/python3.10/dist-packages (from pandas) (2023.4)\n",
            "Requirement already satisfied: numpy>=1.21.0 in /usr/local/lib/python3.10/dist-packages (from pandas) (1.25.2)\n",
            "Requirement already satisfied: six>=1.5 in /usr/local/lib/python3.10/dist-packages (from python-dateutil>=2.8.1->pandas) (1.16.0)\n"
          ]
        }
      ]
    },
    {
      "cell_type": "code",
      "execution_count": 9,
      "metadata": {
        "id": "ziQtDRssnnHb",
        "colab": {
          "base_uri": "https://localhost:8080/"
        },
        "outputId": "51a8aa9f-82df-4aba-a1ae-b380c8b760d0"
      },
      "outputs": [
        {
          "output_type": "stream",
          "name": "stdout",
          "text": [
            "['IMDb Charts', '1. The Shawshank Redemption', '2. The Godfather', '3. The Dark Knight', '4. The Godfather Part II', '5. 12 Angry Men', \"6. Schindler's List\", '7. The Lord of the Rings: The Return of the King', '8. Pulp Fiction', '9. The Lord of the Rings: The Fellowship of the Ring', '10. The Good, the Bad and the Ugly', '11. Forrest Gump', '12. The Lord of the Rings: The Two Towers', '13. Fight Club', '14. Inception', '15. Dune: Part Two', '16. Star Wars: Episode V - The Empire Strikes Back', '17. The Matrix', '18. Goodfellas', \"19. One Flew Over the Cuckoo's Nest\", '20. Se7en', '21. Interstellar', \"22. It's a Wonderful Life\", '23. Seven Samurai', '24. The Silence of the Lambs', '25. Saving Private Ryan', '26. City of God', '27. Life Is Beautiful', '28. The Green Mile', '29. Terminator 2: Judgment Day', '30. Star Wars: Episode IV - A New Hope', '31. Back to the Future', '32. Spirited Away', '33. The Pianist', '34. Parasite', '35. Psycho', '36. Spider-Man: Across the Spider-Verse', '37. Gladiator', '38. The Lion King', '39. Léon: The Professional', '40. The Departed', '41. American History X', '42. Whiplash', '43. The Prestige', '44. Grave of the Fireflies', '45. Harakiri', '46. The Usual Suspects', '47. Casablanca', '48. The Intouchables', '49. Cinema Paradiso', '50. Modern Times', '51. Rear Window', '52. Once Upon a Time in the West', '53. Alien', '54. City Lights', '55. Apocalypse Now', '56. Django Unchained', '57. 12th Fail', '58. Memento', '59. WALL·E', '60. Raiders of the Lost Ark', '61. The Lives of Others', '62. Sunset Blvd.', '63. Paths of Glory', '64. Avengers: Infinity War', '65. Spider-Man: Into the Spider-Verse', '66. The Shining', '67. Witness for the Prosecution', '68. The Great Dictator', '69. Aliens', '70. Inglourious Basterds', '71. The Dark Knight Rises', '72. Dr. Strangelove or: How I Learned to Stop Worrying and Love the Bomb', '73. American Beauty', '74. Oldboy', '75. Coco', '76. Amadeus', '77. Toy Story', '78. Das Boot', '79. Braveheart', '80. Avengers: Endgame', '81. Joker', '82. Princess Mononoke', '83. Good Will Hunting', '84. Your Name.', '85. Once Upon a Time in America', '86. High and Low', '87. 3 Idiots', \"88. Singin' in the Rain\", '89. Capernaum', '90. Oppenheimer', '91. Requiem for a Dream', '92. Come and See', '93. Toy Story 3', '94. Star Wars: Episode VI - Return of the Jedi', '95. Eternal Sunshine of the Spotless Mind', '96. The Hunt', '97. 2001: A Space Odyssey', '98. Reservoir Dogs', '99. Ikiru', '100. Lawrence of Arabia', '101. The Apartment', '102. North by Northwest', '103. Citizen Kane', '104. Vertigo', '105. M', '106. Incendies', '107. Double Indemnity', '108. Scarface', '109. Amélie', '110. Full Metal Jacket', '111. A Clockwork Orange', '112. Heat', '113. Up', '114. To Kill a Mockingbird', '115. The Sting', '116. A Separation', '117. Indiana Jones and the Last Crusade', '118. Die Hard', '119. Metropolis', '120. Like Stars on Earth', '121. Hamilton', '122. Snatch', '123. L.A. Confidential', '124. Bicycle Thieves', '125. 1917', '126. Taxi Driver', '127. Downfall', '128. Dangal', '129. For a Few Dollars More', '130. Batman Begins', '131. The Wolf of Wall Street', '132. Some Like It Hot', '133. The Kid', '134. Green Book', '135. The Father', '136. Judgment at Nuremberg', '137. All About Eve', '138. The Truman Show', '139. Top Gun: Maverick', '140. Shutter Island', '141. There Will Be Blood', '142. Casino', '143. Ran', '144. Jurassic Park', '145. The Sixth Sense', \"146. Pan's Labyrinth\", '147. Unforgiven', '148. No Country for Old Men', '149. A Beautiful Mind', '150. The Thing', '151. The Treasure of the Sierra Madre', '152. Kill Bill: Vol. 1', '153. Yojimbo', '154. Monty Python and the Holy Grail', '155. The Great Escape', '156. Finding Nemo', '157. Rashomon', '158. Prisoners', \"159. Howl's Moving Castle\", '160. The Elephant Man', '161. Chinatown', '162. Dial M for Murder', '163. Gone with the Wind', '164. V for Vendetta', '165. Lock, Stock and Two Smoking Barrels', '166. The Secret in Their Eyes', '167. Inside Out', '168. Raging Bull', '169. Three Billboards Outside Ebbing, Missouri', '170. Trainspotting', '171. The Bridge on the River Kwai', '172. Spider-Man: No Way Home', '173. Fargo', '174. Klaus', '175. Warrior', '176. Catch Me If You Can', '177. Godzilla Minus One', '178. Gran Torino', '179. My Neighbor Totoro', '180. Million Dollar Baby', '181. Harry Potter and the Deathly Hallows: Part 2', '182. Children of Heaven', '183. 12 Years a Slave', '184. Blade Runner', '185. Before Sunrise', '186. Ben-Hur', '187. The Grand Budapest Hotel', '188. Barry Lyndon', '189. Gone Girl', '190. Hacksaw Ridge', '191. The Gold Rush', '192. In the Name of the Father', '193. Memories of Murder', '194. Dead Poets Society', '195. On the Waterfront', '196. The Deer Hunter', '197. The General', '198. Wild Tales', '199. Mad Max: Fury Road', '200. Monsters, Inc.', '201. Sherlock Jr.', '202. The Third Man', '203. Wild Strawberries', '204. The Wages of Fear', '205. Jaws', '206. How to Train Your Dragon', '207. Mary and Max', '208. Mr. Smith Goes to Washington', '209. Ratatouille', '210. Ford v Ferrari', '211. The Big Lebowski', '212. The Seventh Seal', '213. Room', '214. Tokyo Story', '215. Rocky', '216. Logan', '217. Spotlight', '218. Hotel Rwanda', '219. Platoon', '220. The Terminator', '221. The Passion of Joan of Arc', '222. Before Sunset', '223. La haine', '224. The Best Years of Our Lives', '225. The Exorcist', '226. Pirates of the Caribbean: The Curse of the Black Pearl', '227. Rush', '228. Jai Bhim', '229. Network', '230. Stand by Me', '231. The Wizard of Oz', '232. The Incredibles', \"233. Hachi: A Dog's Tale\", '234. The Handmaiden', '235. Into the Wild', '236. My Father and My Son', '237. The Sound of Music', '238. The Battle of Algiers', '239. The Grapes of Wrath', '240. Groundhog Day', '241. To Be or Not to Be', '242. Amores Perros', '243. Rebecca', '244. Cool Hand Luke', '245. The Iron Giant', '246. The Help', '247. It Happened One Night', '248. Aladdin', '249. Dances with Wolves', '250. Gangs of Wasseypur', 'More to explore', 'Charts', 'Top Box Office (US)', 'Most Popular Movies', 'Top Rated English Movies', 'Most Popular TV Shows', 'Top 250 TV Shows', 'Lowest Rated Movies', 'Most Popular Celebs', 'Movie News', 'Top Rated Movies by Genre', 'Recently viewed']\n"
          ]
        }
      ],
      "source": [
        "import requests\n",
        "\n",
        "from bs4 import BeautifulSoup\n",
        "\n",
        "import pandas as pd\n",
        "\n",
        "headers = {\n",
        "    'User-Agent': 'Mozilla/5.0 (Windows NT 6.1) AppleWebKit/537.36 (KHTML, like Gecko) Chrome/41.0.2228.0 Safari/537.36'\n",
        "}\n",
        "\n",
        "\n",
        "url=\"https://www.imdb.com/chart/top/\"\n",
        "response=requests.get(url,headers=headers)\n",
        "soup=BeautifulSoup(response.content,'html.parser')\n",
        "soup.select('h3',class_='ipc-title__text')\n",
        "movie=[]\n",
        "for i in soup.select('h3',class_='ipc-title__text'):\n",
        "    movie.append(i.text)\n",
        "print(movie)"
      ]
    },
    {
      "cell_type": "code",
      "source": [
        "import requests\n",
        "from bs4 import BeautifulSoup\n",
        "\n",
        "url = \"https://en.wikipedia.org/wiki/List_of_states_and_territories_of_the_United_States\"\n",
        "\n",
        "response = requests.get(url)\n",
        "soup = BeautifulSoup(response.content, \"html.parser\")\n",
        "table = soup.find(\"table\", class_=\"wikitable\")\n",
        "state_of_US = []\n",
        "populations = []\n",
        "for row in table.find_all(\"tr\")[1:]:\n",
        "    columns = row.find_all(\"td\")\n",
        "    state_of_US = columns[0].text.strip()\n",
        "    population = columns[5].text.strip().replace(\",\", \"\")\n",
        "    state_of_US.append(state_of_US)\n",
        "    populations.append(int(population))\n"
      ],
      "metadata": {
        "id": "EHA5Gbg-n3-1"
      },
      "execution_count": null,
      "outputs": []
    },
    {
      "cell_type": "code",
      "source": [],
      "metadata": {
        "id": "8bc8D3lsoyH7"
      },
      "execution_count": null,
      "outputs": []
    }
  ]
}